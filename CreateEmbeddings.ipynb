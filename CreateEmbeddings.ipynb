{
 "cells": [
  {
   "cell_type": "markdown",
   "id": "0c6bb43b-fbca-4a4b-95bd-8b6b8d5b6f4d",
   "metadata": {},
   "source": [
    "- This notebooks ingests the data source, creates embeddings using OpenAI's LLM and stores it in a vector database for querying\n",
    "- Refer to the following free cource for setup etc : https://learn.deeplearning.ai/langchain-chat-with-your-data/lesson/1/introduction"
   ]
  },
  {
   "cell_type": "code",
   "execution_count": 1,
   "id": "51728207-84cd-44bd-ac75-59342d0f4fa8",
   "metadata": {},
   "outputs": [],
   "source": [
    "import os\n",
    "import openai\n",
    "import sys\n",
    "# sys.path.append('../..')\n",
    "\n",
    "# from dotenv import load_dotenv, find_dotenv\n",
    "# _ = load_dotenv(find_dotenv()) # read local .env file\n",
    "\n",
    "openai.api_key  = os.environ['OPENAI_API_KEY']"
   ]
  },
  {
   "cell_type": "code",
   "execution_count": 2,
   "id": "d78dc1e4-6f41-47b4-acc0-fed2296266bb",
   "metadata": {},
   "outputs": [],
   "source": [
    "from langchain.document_loaders import NotionDirectoryLoader\n",
    "loader = NotionDirectoryLoader('Notion_DB2')\n",
    "docs = loader.load()"
   ]
  },
  {
   "cell_type": "code",
   "execution_count": 3,
   "id": "4468bb36-dd5e-477d-ba99-d454798ebdab",
   "metadata": {},
   "outputs": [
    {
     "data": {
      "text/plain": [
       "5"
      ]
     },
     "execution_count": 3,
     "metadata": {},
     "output_type": "execute_result"
    }
   ],
   "source": [
    "len(docs)"
   ]
  },
  {
   "cell_type": "code",
   "execution_count": 4,
   "id": "a67bbcdd-8791-43fb-a6b1-8dc05cc408f9",
   "metadata": {},
   "outputs": [
    {
     "data": {
      "text/plain": [
       "'# Tools\\n\\nOwner: Arvind Narayan\\n\\n| Tool | Access URL | Login Credentials | Point of Contact |\\n| --- | --- | --- | --- |\\n| Jupyter Notebook | https://research.google.com/colaboratory/ | Provided upon completion of IT security training | Kevin Malone\\nkmalone@dundermiflin.com |\\n| Cloud Platform | https://console.cloud.google.com/ | Provided by IT | Kevin Malone\\nkmalone@dundermiflin.com |\\n| Data warehouse | https://cloud.google.com/bigquery | Provided by IT | Kevin Malone\\nkmalone@dundermiflin.com |\\n| Github | https://docs.github.com/en/get-started/quickstart/creating-an-account-on-github | Create your own account | Ryan Howard\\nrhoward@dundermiflin.com |\\n| Slack | https://slack.com/ | Your LDAP | Ryan Howard\\nrhoward@dundermiflin.com |\\n| Project Management Tool | https://slack.com/ | Your LDAP | Ryan Howard\\nrhoward@dundermiflin.com |'"
      ]
     },
     "execution_count": 4,
     "metadata": {},
     "output_type": "execute_result"
    }
   ],
   "source": [
    "docs[0].page_content"
   ]
  },
  {
   "cell_type": "code",
   "execution_count": 5,
   "id": "0536e820-977f-4ba3-b3f0-a4085048347a",
   "metadata": {},
   "outputs": [
    {
     "data": {
      "text/plain": [
       "{'source': 'Notion_DB2/Tools d3bb088d280948eebbd01408ad3ad3b0.md'}"
      ]
     },
     "execution_count": 5,
     "metadata": {},
     "output_type": "execute_result"
    }
   ],
   "source": [
    "docs[0].metadata"
   ]
  },
  {
   "cell_type": "code",
   "execution_count": 6,
   "id": "a2c6f197-3f62-455e-b9ce-4c21ec0624ff",
   "metadata": {},
   "outputs": [
    {
     "data": {
      "text/plain": [
       "[{'source': 'Notion_DB2/Tools d3bb088d280948eebbd01408ad3ad3b0.md'},\n",
       " {'source': 'Notion_DB2/Team Members 5bc2908dd5de46f8a572a4e78b56f986.md'},\n",
       " {'source': 'Notion_DB2/Onboarding 293779f65bd041b1b77e116e5fb7ab6b.md'},\n",
       " {'source': 'Notion_DB2/Data Science and Analytics fd5309a796924d6f819829a19164228e.md'},\n",
       " {'source': 'Notion_DB2/Projects e6349f4e41024ccca2a0358224bf903e.md'}]"
      ]
     },
     "execution_count": 6,
     "metadata": {},
     "output_type": "execute_result"
    }
   ],
   "source": [
    "topics = [doc.metadata for doc in docs]\n",
    "topics"
   ]
  },
  {
   "cell_type": "markdown",
   "id": "81ba9948-e4b4-4f5f-b3a4-d50725517981",
   "metadata": {
    "tags": []
   },
   "source": [
    "### Split in to chunks"
   ]
  },
  {
   "cell_type": "code",
   "execution_count": 7,
   "id": "e1f0f350-40f6-486c-b9e7-5e1f3d3effbf",
   "metadata": {},
   "outputs": [],
   "source": [
    "from langchain.text_splitter import RecursiveCharacterTextSplitter \n",
    "text_splitter = RecursiveCharacterTextSplitter(\n",
    "    chunk_size = 1500,\n",
    "    chunk_overlap = 150\n",
    ")\n",
    "#RecursiveCharacterTextSplitter aids in semantic splitting based on paragraph structure"
   ]
  },
  {
   "cell_type": "code",
   "execution_count": 9,
   "id": "309ba5e0-f5d1-4095-9825-433f087ec9f8",
   "metadata": {},
   "outputs": [],
   "source": [
    "splits = text_splitter.split_documents(docs)"
   ]
  },
  {
   "cell_type": "code",
   "execution_count": 10,
   "id": "a1d0f1bd-8f31-4cf8-9a43-46148de05be3",
   "metadata": {},
   "outputs": [
    {
     "data": {
      "text/plain": [
       "7"
      ]
     },
     "execution_count": 10,
     "metadata": {},
     "output_type": "execute_result"
    }
   ],
   "source": [
    "len(splits)"
   ]
  },
  {
   "cell_type": "code",
   "execution_count": 11,
   "id": "c9685e0a-822b-4f0b-bd19-8bea16f51b81",
   "metadata": {},
   "outputs": [
    {
     "data": {
      "text/plain": [
       "Document(page_content='# Tools\\n\\nOwner: Arvind Narayan\\n\\n| Tool | Access URL | Login Credentials | Point of Contact |\\n| --- | --- | --- | --- |\\n| Jupyter Notebook | https://research.google.com/colaboratory/ | Provided upon completion of IT security training | Kevin Malone\\nkmalone@dundermiflin.com |\\n| Cloud Platform | https://console.cloud.google.com/ | Provided by IT | Kevin Malone\\nkmalone@dundermiflin.com |\\n| Data warehouse | https://cloud.google.com/bigquery | Provided by IT | Kevin Malone\\nkmalone@dundermiflin.com |\\n| Github | https://docs.github.com/en/get-started/quickstart/creating-an-account-on-github | Create your own account | Ryan Howard\\nrhoward@dundermiflin.com |\\n| Slack | https://slack.com/ | Your LDAP | Ryan Howard\\nrhoward@dundermiflin.com |\\n| Project Management Tool | https://slack.com/ | Your LDAP | Ryan Howard\\nrhoward@dundermiflin.com |', metadata={'source': 'Notion_DB2/Tools d3bb088d280948eebbd01408ad3ad3b0.md'})"
      ]
     },
     "execution_count": 11,
     "metadata": {},
     "output_type": "execute_result"
    }
   ],
   "source": [
    "splits[0]"
   ]
  },
  {
   "cell_type": "code",
   "execution_count": 12,
   "id": "6a4b097b-762e-4b8f-ae20-b5798da420be",
   "metadata": {},
   "outputs": [
    {
     "data": {
      "text/plain": [
       "{'source': 'Notion_DB2/Tools d3bb088d280948eebbd01408ad3ad3b0.md'}"
      ]
     },
     "execution_count": 12,
     "metadata": {},
     "output_type": "execute_result"
    }
   ],
   "source": [
    "splits[0].metadata ## page_content and metadata are available..."
   ]
  },
  {
   "cell_type": "markdown",
   "id": "253b45a2-995f-4178-9a7c-71382e7d4042",
   "metadata": {},
   "source": [
    "### Create Embeddings"
   ]
  },
  {
   "cell_type": "code",
   "execution_count": 14,
   "id": "a7fec138-c3a1-4271-b005-48f4c5a80402",
   "metadata": {},
   "outputs": [],
   "source": [
    "from langchain.embeddings.openai import OpenAIEmbeddings\n",
    "embedding = OpenAIEmbeddings()"
   ]
  },
  {
   "cell_type": "code",
   "execution_count": 15,
   "id": "d535c259-3576-44b8-a280-fc4ed11c7979",
   "metadata": {},
   "outputs": [],
   "source": [
    "from langchain.vectorstores import Chroma"
   ]
  },
  {
   "cell_type": "code",
   "execution_count": 16,
   "id": "d589abae-1e4e-43c9-a5d1-d582427dc38a",
   "metadata": {},
   "outputs": [],
   "source": [
    "persist_directory = './chroma/'"
   ]
  },
  {
   "cell_type": "code",
   "execution_count": 17,
   "id": "207b9524-1c4d-4fac-a2ab-e20d96a2caac",
   "metadata": {},
   "outputs": [],
   "source": [
    "vectordb = Chroma.from_documents(\n",
    "    documents=splits,\n",
    "    embedding=embedding,\n",
    "    persist_directory=persist_directory\n",
    ")"
   ]
  },
  {
   "cell_type": "code",
   "execution_count": 18,
   "id": "13a89890-b24e-47a3-a53b-03653ca225b8",
   "metadata": {},
   "outputs": [],
   "source": [
    "question = \"Who is the manager?\""
   ]
  },
  {
   "cell_type": "code",
   "execution_count": 19,
   "id": "24566487-a345-4860-a74f-b573412e899f",
   "metadata": {},
   "outputs": [],
   "source": [
    "docs = vectordb.similarity_search(question,k=3)"
   ]
  },
  {
   "cell_type": "code",
   "execution_count": 20,
   "id": "7d9f6061-c2a0-4d93-aeab-b9f2e6428db3",
   "metadata": {},
   "outputs": [
    {
     "data": {
      "text/plain": [
       "3"
      ]
     },
     "execution_count": 20,
     "metadata": {},
     "output_type": "execute_result"
    }
   ],
   "source": [
    "len(docs)"
   ]
  },
  {
   "cell_type": "code",
   "execution_count": 21,
   "id": "6ad4a97d-62ac-4374-a480-fced8ff8f199",
   "metadata": {},
   "outputs": [
    {
     "data": {
      "text/plain": [
       "'# Team Members\\n\\nOwner: Arvind Narayan\\n\\n| Name | Role | Email Id |\\n| --- | --- | --- |\\n| Michael Scott | Team Manager | mscott@dundermifflin.com |\\n| Jim Halpert | Program Manager | jhalpert@dundermifflin.com |\\n| Dwight Schrute | Program Manager | dschrute@dundermifflin.com |\\n| Pam Beesly | Sr Data Scientist | pbeesly@dundermifflin.com |\\n| Andy Bernard | Sr Data Scientist | abernard@dundermifflin.com |\\n| Kelly Kapoor | Data Scientist | kkapoor@dundermifflin.com |\\n| Oscar Martinez | Data Engineer | omartinez@dundermifflin.com |'"
      ]
     },
     "execution_count": 21,
     "metadata": {},
     "output_type": "execute_result"
    }
   ],
   "source": [
    "docs[0].page_content"
   ]
  },
  {
   "cell_type": "code",
   "execution_count": 22,
   "id": "890fe667-edb2-4edd-98cb-4db5b94e7fd7",
   "metadata": {},
   "outputs": [
    {
     "data": {
      "text/plain": [
       "{'source': 'Notion_DB2/Onboarding 293779f65bd041b1b77e116e5fb7ab6b.md'}"
      ]
     },
     "execution_count": 22,
     "metadata": {},
     "output_type": "execute_result"
    }
   ],
   "source": [
    "docs[2].metadata"
   ]
  },
  {
   "cell_type": "code",
   "execution_count": 23,
   "id": "bddb5541-0590-4e0f-bf86-aef357dfedd4",
   "metadata": {},
   "outputs": [],
   "source": [
    "# save the vector db\n",
    "vectordb.persist()"
   ]
  },
  {
   "cell_type": "code",
   "execution_count": null,
   "id": "ad8a2da3-8aa6-40bf-9233-1b5e180aabb7",
   "metadata": {},
   "outputs": [],
   "source": [
    "# #to retrieve vectordb from local memory\n",
    "# persist_directory = './chroma2/'\n",
    "# embedding = OpenAIEmbeddings()\n",
    "# vectordb = Chroma(persist_directory=persist_directory, embedding_function=embedding)"
   ]
  },
  {
   "cell_type": "markdown",
   "id": "459f2ce8-b299-430f-85a8-339e3c39203b",
   "metadata": {},
   "source": [
    "### Retreival with memory"
   ]
  },
  {
   "cell_type": "code",
   "execution_count": 24,
   "id": "b2311f3d-0105-420d-95fb-afd5cec25bc6",
   "metadata": {},
   "outputs": [
    {
     "name": "stdout",
     "output_type": "stream",
     "text": [
      "gpt-3.5-turbo\n"
     ]
    }
   ],
   "source": [
    "import datetime\n",
    "current_date = datetime.datetime.now().date()\n",
    "if current_date < datetime.date(2023, 9, 2):\n",
    "    llm_name = \"gpt-3.5-turbo-0301\"\n",
    "else:\n",
    "    llm_name = \"gpt-3.5-turbo\"\n",
    "print(llm_name)"
   ]
  },
  {
   "cell_type": "code",
   "execution_count": 25,
   "id": "db1abc41-2d9e-4265-8a82-0e6b1e3c4331",
   "metadata": {},
   "outputs": [
    {
     "data": {
      "text/plain": [
       "'Hello! How can I assist you today?'"
      ]
     },
     "execution_count": 25,
     "metadata": {},
     "output_type": "execute_result"
    }
   ],
   "source": [
    "#initialize llm\n",
    "from langchain.chat_models import ChatOpenAI\n",
    "llm = ChatOpenAI(model_name=llm_name, temperature=0)\n",
    "llm.predict(\"Hello world!\")"
   ]
  },
  {
   "cell_type": "code",
   "execution_count": 26,
   "id": "4d7338a3-e6da-43f6-ad7b-3a136d4d1b16",
   "metadata": {},
   "outputs": [],
   "source": [
    "from langchain.memory import ConversationBufferMemory\n",
    "from langchain.chains import ConversationalRetrievalChain"
   ]
  },
  {
   "cell_type": "code",
   "execution_count": 27,
   "id": "d4fc3423-bff2-4a7e-82fb-e8bb760b23ac",
   "metadata": {},
   "outputs": [],
   "source": [
    "## run this cell to clear chat history\n",
    "\n",
    "#memory\n",
    "memory = ConversationBufferMemory(\n",
    "    memory_key=\"chat_history\",\n",
    "    return_messages=True\n",
    ")\n",
    "\n",
    "#retriever\n",
    "retriever=vectordb.as_retriever()\n",
    "qa = ConversationalRetrievalChain.from_llm(\n",
    "    llm,\n",
    "    retriever=retriever,\n",
    "    memory=memory,\n",
    "    chain_type = 'stuff' #default = 'stuff'\n",
    ")"
   ]
  },
  {
   "cell_type": "code",
   "execution_count": 28,
   "id": "0b28bdc5-8904-4c95-b0ff-eacbe59528e2",
   "metadata": {},
   "outputs": [],
   "source": [
    "### chat bot with history"
   ]
  },
  {
   "cell_type": "code",
   "execution_count": 29,
   "id": "ae63e63b-b9fe-47eb-b098-c418f59f4653",
   "metadata": {},
   "outputs": [],
   "source": [
    "question = \"who is the manager?\"\n",
    "result = qa({\"question\": question})"
   ]
  },
  {
   "cell_type": "code",
   "execution_count": 30,
   "id": "5d1078b3-2487-442a-bdb4-94a1c2d4c8b2",
   "metadata": {},
   "outputs": [
    {
     "name": "stdout",
     "output_type": "stream",
     "text": [
      "The manager of the Data Science and Analytics team is Michael Scott.\n"
     ]
    }
   ],
   "source": [
    "print(result['answer'])"
   ]
  },
  {
   "cell_type": "code",
   "execution_count": 31,
   "id": "1da92e87-22af-4f84-ad4b-e15828525a4a",
   "metadata": {},
   "outputs": [],
   "source": [
    "question = \"what is his emailid?\"\n",
    "result = qa({\"question\": question})"
   ]
  },
  {
   "cell_type": "code",
   "execution_count": 32,
   "id": "254f73e7-4ce7-4618-9206-abc60334ff6b",
   "metadata": {},
   "outputs": [
    {
     "name": "stdout",
     "output_type": "stream",
     "text": [
      "Michael Scott's email id is mscott@dundermifflin.com.\n"
     ]
    }
   ],
   "source": [
    "print(result['answer'])"
   ]
  },
  {
   "cell_type": "code",
   "execution_count": 33,
   "id": "fb71efba-f7df-474e-a471-7c145d518880",
   "metadata": {},
   "outputs": [
    {
     "data": {
      "text/plain": [
       "[HumanMessage(content='who is the manager?'),\n",
       " AIMessage(content='The manager of the Data Science and Analytics team is Michael Scott.'),\n",
       " HumanMessage(content='what is his emailid?'),\n",
       " AIMessage(content=\"Michael Scott's email id is mscott@dundermifflin.com.\")]"
      ]
     },
     "execution_count": 33,
     "metadata": {},
     "output_type": "execute_result"
    }
   ],
   "source": [
    "result['chat_history']"
   ]
  }
 ],
 "metadata": {
  "kernelspec": {
   "display_name": "Python 3 (ipykernel)",
   "language": "python",
   "name": "python3"
  },
  "language_info": {
   "codemirror_mode": {
    "name": "ipython",
    "version": 3
   },
   "file_extension": ".py",
   "mimetype": "text/x-python",
   "name": "python",
   "nbconvert_exporter": "python",
   "pygments_lexer": "ipython3",
   "version": "3.9.13"
  }
 },
 "nbformat": 4,
 "nbformat_minor": 5
}
